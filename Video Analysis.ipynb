{
 "cells": [
  {
   "cell_type": "code",
   "execution_count": 10,
   "metadata": {},
   "outputs": [
    {
     "name": "stdout",
     "output_type": "stream",
     "text": [
      "successfully logined\n",
      "Email has been sent to graceyerragudi0581@gmail.com\n"
     ]
    }
   ],
   "source": [
    "import cv2\n",
    "import numpy as np\n",
    "from keras.models import load_model\n",
    "from keras.preprocessing import image\n",
    "model=load_model(\"project.h5\")\n",
    "#2 parameters bool 0 or 1,frame\n",
    "video=cv2.VideoCapture(0) #for lappy camera/ for usb camera 1\n",
    "index=['Bear', 'Cheetah','Elephant', 'Fox', 'Lion', 'Tiger', 'hyena']\n",
    "while(1):\n",
    "    success,frame=video.read()\n",
    "    cv2.imwrite(\"image.jpg\",frame)\n",
    "    img=image.load_img(\"image.jpg\",target_size=(64,64))\n",
    "    x=image.img_to_array(img)\n",
    "    x=np.expand_dims(x,axis=0)\n",
    "    pred=model.predict_classes(x)\n",
    "    p=pred[0]\n",
    "    cv2.putText(frame,\"predicted animal is \"+str(index[p]),(100,100),cv2.FONT_HERSHEY_SIMPLEX,1,(0,0,0),4)\n",
    "    cv2.imshow(\"image\",frame)\n",
    "    if cv2.waitKey(1)&0xff==ord('a'):\n",
    "        break\n",
    "video.release()        \n",
    "cv2.destroyAllWindows()\n",
    "import smtplib\n",
    "import datetime\n",
    "from email.message import EmailMessage\n",
    "\n",
    "sender_email=\"ygrace567@gmail.com\"\n",
    "password=\"meuieakdaorgrdtb\"\n",
    "rec_email=\"graceyerragudi0581@gmail.com\"\n",
    "message=(\"ANIMAL DETECTED IS \"+str(index[p]))\n",
    "\n",
    "server=smtplib.SMTP('smtp.gmail.com',587)\n",
    "server.starttls()\n",
    "server.login(sender_email,password)\n",
    "print(\"successfully logined\")\n",
    "server.sendmail(sender_email,rec_email,message)\n",
    "print(\"Email has been sent to\",rec_email)"
   ]
  },
  {
   "cell_type": "code",
   "execution_count": null,
   "metadata": {},
   "outputs": [],
   "source": []
  }
 ],
 "metadata": {
  "kernelspec": {
   "display_name": "Python 3",
   "language": "python",
   "name": "python3"
  },
  "language_info": {
   "codemirror_mode": {
    "name": "ipython",
    "version": 3
   },
   "file_extension": ".py",
   "mimetype": "text/x-python",
   "name": "python",
   "nbconvert_exporter": "python",
   "pygments_lexer": "ipython3",
   "version": "3.7.6"
  }
 },
 "nbformat": 4,
 "nbformat_minor": 4
}
